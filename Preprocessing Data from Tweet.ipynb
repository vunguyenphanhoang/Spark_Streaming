{
 "cells": [
  {
   "cell_type": "code",
   "execution_count": 1,
   "metadata": {},
   "outputs": [],
   "source": [
    "import findspark\n",
    "findspark.init()"
   ]
  },
  {
   "cell_type": "code",
   "execution_count": 2,
   "metadata": {},
   "outputs": [],
   "source": [
    "import pyspark"
   ]
  },
  {
   "cell_type": "code",
   "execution_count": 3,
   "metadata": {},
   "outputs": [],
   "source": [
    "from pyspark import SparkContext\n",
    "from pyspark.streaming import StreamingContext\n",
    "from pyspark.sql import SQLContext\n",
    "from pyspark.sql.functions import desc"
   ]
  },
  {
   "cell_type": "code",
   "execution_count": 4,
   "metadata": {},
   "outputs": [],
   "source": [
    "sc = SparkContext()"
   ]
  },
  {
   "cell_type": "code",
   "execution_count": 5,
   "metadata": {},
   "outputs": [],
   "source": [
    "# 1 bacth lưu 10 giây\n",
    "ssc = StreamingContext(sc, 10 ) # batch_size: batch duration time\n",
    "sqlContext = SQLContext(sc)"
   ]
  },
  {
   "cell_type": "code",
   "execution_count": 6,
   "metadata": {},
   "outputs": [],
   "source": [
    "# Tạo socket stream\n",
    "socket_stream = ssc.socketTextStream(\"127.0.0.1\", 5555) # local machine: host, port"
   ]
  },
  {
   "cell_type": "code",
   "execution_count": 7,
   "metadata": {},
   "outputs": [],
   "source": [
    "# tạo DStream, lưu các line, 1 cửa sổ lưu 20 lines\n",
    "lines = socket_stream.window( 20 ) "
   ]
  },
  {
   "cell_type": "code",
   "execution_count": 8,
   "metadata": {},
   "outputs": [],
   "source": [
    "# Create a class Tweet via namedtuple\n",
    "from collections import namedtuple\n",
    "# Với mỗi tweet sẽ có tên tag và count\n",
    "fields = (\"tag\", \"count\" )\n",
    "Tweet = namedtuple( 'Tweet', fields )"
   ]
  },
  {
   "cell_type": "code",
   "execution_count": 9,
   "metadata": {},
   "outputs": [],
   "source": [
    "# transform dstream, \n",
    "# input > spark streaming > dstream > phải transform để có dữ liệu xài được \n",
    "# flatmap để list, đọc thông tin từng dòng, filter hashtags dấu #\n",
    "# transform thành chữ thường (lower words)\n",
    "# rmove những tag trùng nhau rồi count lên\n",
    "# lưu trữ trong rec\n",
    "# chuyển về dataframe từ RDD, sort theo count\n",
    "# refresh sau 10 giây\n",
    "( lines.flatMap( lambda text: text.split( \" \" ) ) # Grab the tweet line and split it into a word list.\n",
    "  .filter( lambda word: word.lower().startswith(\"#\") ) # Check for hashtag calls. Filter the message with the hashtag.\n",
    "  .map( lambda word: ( word.lower(), 1 ) ) # Convert the words to lowercase.\n",
    "  .reduceByKey( lambda a, b: a + b ) # Count and remove duplicates.\n",
    "  .map( lambda rec: Tweet( rec[0], rec[1] ) ) # Store the words in the Tweet object.\n",
    "  .foreachRDD( lambda rdd: rdd.toDF().sort( desc(\"count\") ) # Sort them in a DataFrame.\n",
    "  .limit(10).registerTempTable(\"tweets\") ) ) #Register to a table. (Refreshes will be executed every 10 seconds.)"
   ]
  },
  {
   "cell_type": "markdown",
   "metadata": {},
   "source": [
    "Now run TweetRead_new.py\n",
    "At folder containing TweetRead_new.py > type cmd > python TweetRead_new.py >> tweets_covid_19.txt\n",
    "Choose some famous hashtags to check, link: https://www.tweeplers.com/hashtags/?cc=WORLD"
   ]
  },
  {
   "cell_type": "code",
   "execution_count": 10,
   "metadata": {},
   "outputs": [],
   "source": [
    "#  run the pyspark Stream instance\n",
    "ssc.start()"
   ]
  },
  {
   "cell_type": "code",
   "execution_count": 11,
   "metadata": {},
   "outputs": [],
   "source": [
    "import time\n",
    "from IPython import display\n",
    "import matplotlib.pyplot as plt\n",
    "import seaborn as sns\n",
    "# Only works for Jupyter Notebooks!\n",
    "%matplotlib inline "
   ]
  },
  {
   "cell_type": "code",
   "execution_count": 12,
   "metadata": {},
   "outputs": [
    {
     "data": {
      "image/png": "[encoded data removed]",
      "text/plain": [
       "<Figure size 720x576 with 1 Axes>"
      ]
     },
     "metadata": {
      "needs_background": "light"
     },
     "output_type": "display_data"
    }
   ],
   "source": [
    "# Make 10 plots\n",
    "# Before each of them, set the sleep time to 10 seconds (or other value, ex: 10 seconds)\n",
    "# grab the top 10 tweets from SQLContext instance. \n",
    "# transform the results to a DataFrame and build a plot for each of them.\n",
    "# The result will be a plot that will change every 10 seconds.\n",
    "try:\n",
    "    count = 0\n",
    "    while count < 10:    \n",
    "        time.sleep( 10 )\n",
    "        top_10_tweets = sqlContext.sql( 'Select tag, count from tweets' )\n",
    "        top_10_df = top_10_tweets.toPandas()\n",
    "        display.clear_output(wait=True)\n",
    "        plt.figure( figsize = ( 10, 8 ) )\n",
    "        sns.barplot( x=\"count\", y=\"tag\", data=top_10_df)\n",
    "        plt.show()\n",
    "        count = count + 1\n",
    "except:\n",
    "    print(\"No tweets now\")"
   ]
  },
  {
   "cell_type": "code",
   "execution_count": 13,
   "metadata": {},
   "outputs": [],
   "source": [
    "# break trên cmd trước khi stop\n",
    "ssc.stop()"
   ]
  },
  {
   "cell_type": "code",
   "execution_count": null,
   "metadata": {},
   "outputs": [],
   "source": []
  }
 ],
 "metadata": {
  "kernelspec": {
   "display_name": "Python 3",
   "language": "python",
   "name": "python3"
  },
  "language_info": {
   "codemirror_mode": {
    "name": "ipython",
    "version": 3
   },
   "file_extension": ".py",
   "mimetype": "text/x-python",
   "name": "python",
   "nbconvert_exporter": "python",
   "pygments_lexer": "ipython3",
   "version": "3.7.6"
  }
 },
 "nbformat": 4,
 "nbformat_minor": 4
}
