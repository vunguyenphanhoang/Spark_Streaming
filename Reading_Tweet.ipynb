{
 "cells": [
  {
   "cell_type": "code",
   "execution_count": 14,
   "metadata": {},
   "outputs": [],
   "source": [
    "# link: https://github.com/emiljdd/Tweepy-SparkTwitterI\n",
    "# pip install textblob\n",
    "import csv\n",
    "from textblob import TextBlob"
   ]
  },
  {
   "cell_type": "code",
   "execution_count": 15,
   "metadata": {},
   "outputs": [],
   "source": [
    "import pandas as pd"
   ]
  },
  {
   "cell_type": "code",
   "execution_count": 16,
   "metadata": {},
   "outputs": [],
   "source": [
    "def read_and_pre_pro(file_in, file_out):\n",
    "    sentences = []\n",
    "    sentiment_polarity = []\n",
    "    sentiment_subjectivity = []\n",
    "    with open(file_in, 'r') as csvfile:\n",
    "        rows = csv.reader(csvfile)\n",
    "        for row in rows:\n",
    "            sentence = row[0]\n",
    "            blob = TextBlob(sentence)\n",
    "            if (\"Error on_data\" not in sentence):\n",
    "                #print (sentence)\n",
    "                #print (blob.sentiment.polarity, blob.sentiment.subjectivity)\n",
    "                sentences.append(sentence)\n",
    "                sentiment_polarity.append(blob.sentiment.polarity)\n",
    "                sentiment_subjectivity.append(blob.sentiment.subjectivity)\n",
    "        data = pd.DataFrame({\"sentence\": sentences, \n",
    "                     \"sentiment_polarity\":sentiment_polarity,\n",
    "                     \"sentiment_subjectivity\":sentiment_subjectivity\n",
    "                    })        \n",
    "        data.sentence = data.sentence.str.replace(\"b'\", \"\")\n",
    "        data.to_csv(file_out)"
   ]
  },
  {
   "cell_type": "code",
   "execution_count": 17,
   "metadata": {},
   "outputs": [],
   "source": [
    "file_in = \"tweets_christmas.txt\"\n",
    "file_out = \"tweets_christmas.csv\"\n",
    "read_and_pre_pro(file_in, file_out)"
   ]
  },
  {
   "cell_type": "code",
   "execution_count": 18,
   "metadata": {},
   "outputs": [],
   "source": [
    "df = pd.read_csv(file_out, index_col=0)"
   ]
  },
  {
   "cell_type": "code",
   "execution_count": 19,
   "metadata": {},
   "outputs": [
    {
     "name": "stdout",
     "output_type": "stream",
     "text": [
      "<class 'pandas.core.frame.DataFrame'>\n",
      "Int64Index: 174 entries, 0 to 173\n",
      "Data columns (total 3 columns):\n",
      " #   Column                  Non-Null Count  Dtype  \n",
      "---  ------                  --------------  -----  \n",
      " 0   sentence                174 non-null    object \n",
      " 1   sentiment_polarity      174 non-null    float64\n",
      " 2   sentiment_subjectivity  174 non-null    float64\n",
      "dtypes: float64(2), object(1)\n",
      "memory usage: 5.4+ KB\n"
     ]
    }
   ],
   "source": [
    "df.info()"
   ]
  },
  {
   "cell_type": "code",
   "execution_count": 20,
   "metadata": {},
   "outputs": [
    {
     "data": {
      "text/html": [
       "<div>\n",
       "<style scoped>\n",
       "    .dataframe tbody tr th:only-of-type {\n",
       "        vertical-align: middle;\n",
       "    }\n",
       "\n",
       "    .dataframe tbody tr th {\n",
       "        vertical-align: top;\n",
       "    }\n",
       "\n",
       "    .dataframe thead th {\n",
       "        text-align: right;\n",
       "    }\n",
       "</style>\n",
       "<table border=\"1\" class=\"dataframe\">\n",
       "  <thead>\n",
       "    <tr style=\"text-align: right;\">\n",
       "      <th></th>\n",
       "      <th>sentence</th>\n",
       "      <th>sentiment_polarity</th>\n",
       "      <th>sentiment_subjectivity</th>\n",
       "    </tr>\n",
       "  </thead>\n",
       "  <tbody>\n",
       "    <tr>\n",
       "      <th>0</th>\n",
       "      <td>Listening on port: 5555</td>\n",
       "      <td>0.000</td>\n",
       "      <td>0.00</td>\n",
       "    </tr>\n",
       "    <tr>\n",
       "      <th>1</th>\n",
       "      <td>Received request from: ('127.0.0.1'</td>\n",
       "      <td>-0.750</td>\n",
       "      <td>1.00</td>\n",
       "    </tr>\n",
       "    <tr>\n",
       "      <th>2</th>\n",
       "      <td>Excited to share this item from my #etsy shop:...</td>\n",
       "      <td>0.375</td>\n",
       "      <td>0.75</td>\n",
       "    </tr>\n",
       "    <tr>\n",
       "      <th>3</th>\n",
       "      <td>@thecure is it too early to write up a Christm...</td>\n",
       "      <td>0.100</td>\n",
       "      <td>0.30</td>\n",
       "    </tr>\n",
       "    <tr>\n",
       "      <th>4</th>\n",
       "      <td>Christmas gifts for men - personalised mens do...</td>\n",
       "      <td>0.000</td>\n",
       "      <td>0.00</td>\n",
       "    </tr>\n",
       "  </tbody>\n",
       "</table>\n",
       "</div>"
      ],
      "text/plain": [
       "                                            sentence  sentiment_polarity  \\\n",
       "0                            Listening on port: 5555               0.000   \n",
       "1                Received request from: ('127.0.0.1'              -0.750   \n",
       "2  Excited to share this item from my #etsy shop:...               0.375   \n",
       "3  @thecure is it too early to write up a Christm...               0.100   \n",
       "4  Christmas gifts for men - personalised mens do...               0.000   \n",
       "\n",
       "   sentiment_subjectivity  \n",
       "0                    0.00  \n",
       "1                    1.00  \n",
       "2                    0.75  \n",
       "3                    0.30  \n",
       "4                    0.00  "
      ]
     },
     "execution_count": 20,
     "metadata": {},
     "output_type": "execute_result"
    }
   ],
   "source": [
    "df.head()"
   ]
  },
  {
   "cell_type": "code",
   "execution_count": 21,
   "metadata": {},
   "outputs": [],
   "source": [
    "indexNames = df[df['sentence'].str.contains(\"Listening on port\")].index \n",
    "# Delete these row indexes from dataFrame\n",
    "df = df.drop(indexNames)"
   ]
  },
  {
   "cell_type": "code",
   "execution_count": 22,
   "metadata": {},
   "outputs": [],
   "source": [
    "indexNames = df[df['sentence'].str.contains(\"Received request from\")].index \n",
    "# Delete these row indexes from dataFrame\n",
    "df = df.drop(indexNames)"
   ]
  },
  {
   "cell_type": "code",
   "execution_count": 23,
   "metadata": {},
   "outputs": [
    {
     "name": "stdout",
     "output_type": "stream",
     "text": [
      "<class 'pandas.core.frame.DataFrame'>\n",
      "Int64Index: 172 entries, 2 to 173\n",
      "Data columns (total 3 columns):\n",
      " #   Column                  Non-Null Count  Dtype  \n",
      "---  ------                  --------------  -----  \n",
      " 0   sentence                172 non-null    object \n",
      " 1   sentiment_polarity      172 non-null    float64\n",
      " 2   sentiment_subjectivity  172 non-null    float64\n",
      "dtypes: float64(2), object(1)\n",
      "memory usage: 5.4+ KB\n"
     ]
    }
   ],
   "source": [
    "df.info()"
   ]
  },
  {
   "cell_type": "code",
   "execution_count": 24,
   "metadata": {},
   "outputs": [
    {
     "data": {
      "text/html": [
       "<div>\n",
       "<style scoped>\n",
       "    .dataframe tbody tr th:only-of-type {\n",
       "        vertical-align: middle;\n",
       "    }\n",
       "\n",
       "    .dataframe tbody tr th {\n",
       "        vertical-align: top;\n",
       "    }\n",
       "\n",
       "    .dataframe thead th {\n",
       "        text-align: right;\n",
       "    }\n",
       "</style>\n",
       "<table border=\"1\" class=\"dataframe\">\n",
       "  <thead>\n",
       "    <tr style=\"text-align: right;\">\n",
       "      <th></th>\n",
       "      <th>sentence</th>\n",
       "      <th>sentiment_polarity</th>\n",
       "      <th>sentiment_subjectivity</th>\n",
       "    </tr>\n",
       "  </thead>\n",
       "  <tbody>\n",
       "    <tr>\n",
       "      <th>2</th>\n",
       "      <td>Excited to share this item from my #etsy shop:...</td>\n",
       "      <td>0.375</td>\n",
       "      <td>0.75</td>\n",
       "    </tr>\n",
       "    <tr>\n",
       "      <th>3</th>\n",
       "      <td>@thecure is it too early to write up a Christm...</td>\n",
       "      <td>0.100</td>\n",
       "      <td>0.30</td>\n",
       "    </tr>\n",
       "    <tr>\n",
       "      <th>4</th>\n",
       "      <td>Christmas gifts for men - personalised mens do...</td>\n",
       "      <td>0.000</td>\n",
       "      <td>0.00</td>\n",
       "    </tr>\n",
       "    <tr>\n",
       "      <th>5</th>\n",
       "      <td>RT @HTs_Vanguard: THE UNDERRATED QUEEN OF ABSC...</td>\n",
       "      <td>0.000</td>\n",
       "      <td>0.00</td>\n",
       "    </tr>\n",
       "    <tr>\n",
       "      <th>6</th>\n",
       "      <td>Who wants toys for #Christmas'</td>\n",
       "      <td>0.200</td>\n",
       "      <td>0.10</td>\n",
       "    </tr>\n",
       "  </tbody>\n",
       "</table>\n",
       "</div>"
      ],
      "text/plain": [
       "                                            sentence  sentiment_polarity  \\\n",
       "2  Excited to share this item from my #etsy shop:...               0.375   \n",
       "3  @thecure is it too early to write up a Christm...               0.100   \n",
       "4  Christmas gifts for men - personalised mens do...               0.000   \n",
       "5  RT @HTs_Vanguard: THE UNDERRATED QUEEN OF ABSC...               0.000   \n",
       "6                     Who wants toys for #Christmas'               0.200   \n",
       "\n",
       "   sentiment_subjectivity  \n",
       "2                    0.75  \n",
       "3                    0.30  \n",
       "4                    0.00  \n",
       "5                    0.00  \n",
       "6                    0.10  "
      ]
     },
     "execution_count": 24,
     "metadata": {},
     "output_type": "execute_result"
    }
   ],
   "source": [
    "df.head()"
   ]
  },
  {
   "cell_type": "code",
   "execution_count": null,
   "metadata": {},
   "outputs": [],
   "source": []
  }
 ],
 "metadata": {
  "kernelspec": {
   "display_name": "Python 3",
   "language": "python",
   "name": "python3"
  },
  "language_info": {
   "codemirror_mode": {
    "name": "ipython",
    "version": 3
   },
   "file_extension": ".py",
   "mimetype": "text/x-python",
   "name": "python",
   "nbconvert_exporter": "python",
   "pygments_lexer": "ipython3",
   "version": "3.7.6"
  }
 },
 "nbformat": 4,
 "nbformat_minor": 4
}
